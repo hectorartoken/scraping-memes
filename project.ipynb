{
 "cells": [
  {
   "cell_type": "code",
   "execution_count": 1,
   "outputs": [],
   "source": [
    "from msedge.selenium_tools import Edge, EdgeOptions\n",
    "from selenium.webdriver.common.by import By\n",
    "from selenium.webdriver.support.wait import WebDriverWait\n",
    "from selenium.webdriver.support import expected_conditions\n",
    "from selenium.common.exceptions import NoSuchElementException\n",
    "import os\n",
    "import time"
   ],
   "metadata": {
    "collapsed": false,
    "pycharm": {
     "name": "#%%\n"
    }
   }
  },
  {
   "cell_type": "code",
   "execution_count": 2,
   "outputs": [],
   "source": [
    "def wait_until(browser, xpath):\n",
    "    WebDriverWait(browser, 100).until(\n",
    "        expected_conditions.presence_of_element_located((By.XPATH, xpath)))"
   ],
   "metadata": {
    "collapsed": false,
    "pycharm": {
     "name": "#%%\n"
    }
   }
  },
  {
   "cell_type": "code",
   "execution_count": 3,
   "outputs": [],
   "source": [
    "def scrap_memes(number_of_memes, group):\n",
    "    options = EdgeOptions()\n",
    "    options.use_chromium = True\n",
    "    # options.add_argument('--headless')\n",
    "    options.add_argument('--disable-notifications')\n",
    "\n",
    "    options.add_experimental_option(\"prefs\", {\n",
    "        \"download.default_directory\":  os.getcwd() + '\\memes',\n",
    "        \"download.prompt_for_download\": \"false\",\n",
    "        \"download.directory_upgrade\": \"true\",\n",
    "        \"safebrowsing.enabled\": \"true\"})\n",
    "\n",
    "    browser = Edge('msedgedriver.exe', options=options)\n",
    "    browser.get('https://web.whatsapp.com/')\n",
    "\n",
    "    # find de group\n",
    "    title = group\n",
    "    text_box = '//div[@role=\"textbox\"]'\n",
    "    wait_until(browser, text_box)\n",
    "    title_group = f'//span[@title=\"{title}\"]'\n",
    "    data = browser.find_elements(By.XPATH, title_group)\n",
    "    if not data:\n",
    "        # search the group\n",
    "        browser.find_element(By.XPATH, '//div[@role=\"textbox\"]').send_keys(title)\n",
    "\n",
    "    # access to the group\n",
    "    wait_until(browser, title_group)\n",
    "    browser.find_element(By.XPATH, title_group).click()\n",
    "\n",
    "    # access to the description of the group\n",
    "    wait_until(browser, '//span[@data-testid=\"search-alt\"]')\n",
    "    browser.find_elements(By.XPATH, title_group)[1].click()\n",
    "\n",
    "    # access to the gallery of the group\n",
    "    chevron_right = '//span[@data-testid=\"chevron-right-alt\"]'\n",
    "    wait_until(browser, chevron_right)\n",
    "    time.sleep(1)\n",
    "    browser.find_element(By.XPATH, chevron_right).click()\n",
    "\n",
    "    # access to the first image from the gallery\n",
    "    first_image = '//*[@class=\"_23fpc\"]'\n",
    "    wait_until(browser, first_image)\n",
    "    browser.find_element(By.XPATH, first_image).click()\n",
    "    for _ in range(number_of_memes):\n",
    "        try:\n",
    "            wait_until(browser, '//span[@data-icon=\"download\"]')\n",
    "            browser.find_element(By.XPATH, '//video')\n",
    "            browser.find_element(By.XPATH, '//span[@data-icon=\"chevron-left\"]').click()\n",
    "        except NoSuchElementException:\n",
    "            browser.find_element(By.XPATH, '//span[@data-icon=\"download\"]').click()\n",
    "            browser.find_element(By.XPATH, '//span[@data-icon=\"chevron-left\"]').click()"
   ],
   "metadata": {
    "collapsed": false,
    "pycharm": {
     "name": "#%%\n"
    }
   }
  },
  {
   "cell_type": "code",
   "execution_count": 4,
   "outputs": [],
   "source": [
    "scrap_memes(50, 'Free memes')"
   ],
   "metadata": {
    "collapsed": false,
    "pycharm": {
     "name": "#%%\n"
    }
   }
  },
  {
   "cell_type": "code",
   "execution_count": null,
   "outputs": [],
   "source": [],
   "metadata": {
    "collapsed": false,
    "pycharm": {
     "name": "#%%\n"
    }
   }
  }
 ],
 "metadata": {
  "kernelspec": {
   "display_name": "Python 3",
   "language": "python",
   "name": "python3"
  },
  "language_info": {
   "codemirror_mode": {
    "name": "ipython",
    "version": 2
   },
   "file_extension": ".py",
   "mimetype": "text/x-python",
   "name": "python",
   "nbconvert_exporter": "python",
   "pygments_lexer": "ipython2",
   "version": "2.7.6"
  }
 },
 "nbformat": 4,
 "nbformat_minor": 0
}
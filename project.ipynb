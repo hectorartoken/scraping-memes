{
 "cells": [
  {
   "cell_type": "code",
   "execution_count": 26,
   "outputs": [],
   "source": [
    "from msedge.selenium_tools import Edge, EdgeOptions\n",
    "from selenium.webdriver.common.by import By\n",
    "from selenium.webdriver.support.wait import WebDriverWait\n",
    "from selenium.webdriver.support import expected_conditions\n",
    "from selenium.common.exceptions import NoSuchElementException\n",
    "import os"
   ],
   "metadata": {
    "collapsed": false,
    "pycharm": {
     "name": "#%%\n"
    }
   }
  },
  {
   "cell_type": "code",
   "execution_count": 30,
   "outputs": [],
   "source": [
    "def wait_until(browser, xpath):\n",
    "    WebDriverWait(browser, 25).until(\n",
    "        expected_conditions.presence_of_element_located((By.XPATH, xpath)))"
   ],
   "metadata": {
    "collapsed": false,
    "pycharm": {
     "name": "#%%\n"
    }
   }
  },
  {
   "cell_type": "code",
   "execution_count": 32,
   "outputs": [],
   "source": [
    "def scrap_memes(number_of_memes):\n",
    "    options = EdgeOptions()\n",
    "    options.use_chromium = True\n",
    "    # options.add_argument('--headless')\n",
    "    options.add_argument('--disable-notifications')\n",
    "\n",
    "    options.add_experimental_option(\"prefs\", {\n",
    "        \"download.default_directory\":  os.getcwd() + '\\memes',\n",
    "        \"download.prompt_for_download\": \"false\",\n",
    "        \"download.directory_upgrade\": \"true\",\n",
    "        \"safebrowsing.enabled\": \"true\"})\n",
    "\n",
    "    browser = Edge('msedgedriver.exe', options=options)\n",
    "    browser.get('https://web.whatsapp.com/')\n",
    "    wait_until(browser, '//span[@title=\"Free memes\"]')\n",
    "    browser.find_element(By.XPATH, '//span[@title=\"Free memes\"]').click()\n",
    "    wait_until(browser, '//*[@id=\"main\"]/header/div[2]/div[1]/div/span')\n",
    "    browser.find_element(By.XPATH, '//*[@id=\"main\"]/header/div[2]/div[1]/div/span').click()\n",
    "    wait_until(browser, \"//span[text()='Archivos, enlaces y documentos']\")\n",
    "    browser.find_element(By.XPATH, \"//span[text()='Archivos, enlaces y documentos']\").click()\n",
    "    wait_until(browser, '//*[@class=\"_23fpc\"]')\n",
    "    browser.find_element(By.XPATH, '//*[@class=\"_23fpc\"]').click()\n",
    "    for _ in range(number_of_memes):\n",
    "        try:\n",
    "            wait_until(browser, '//span[@data-icon=\"download\"]')\n",
    "            browser.find_element(By.XPATH, '//video')\n",
    "            browser.find_element(By.XPATH, '//span[@data-icon=\"chevron-left\"]').click()\n",
    "        except NoSuchElementException:\n",
    "            browser.find_element(By.XPATH, '//span[@data-icon=\"download\"]').click()\n",
    "            browser.find_element(By.XPATH, '//span[@data-icon=\"chevron-left\"]').click()"
   ],
   "metadata": {
    "collapsed": false,
    "pycharm": {
     "name": "#%%\n"
    }
   }
  },
  {
   "cell_type": "code",
   "execution_count": null,
   "outputs": [],
   "source": [],
   "metadata": {
    "collapsed": false,
    "pycharm": {
     "name": "#%%\n"
    }
   }
  }
 ],
 "metadata": {
  "kernelspec": {
   "display_name": "Python 3",
   "language": "python",
   "name": "python3"
  },
  "language_info": {
   "codemirror_mode": {
    "name": "ipython",
    "version": 2
   },
   "file_extension": ".py",
   "mimetype": "text/x-python",
   "name": "python",
   "nbconvert_exporter": "python",
   "pygments_lexer": "ipython2",
   "version": "2.7.6"
  }
 },
 "nbformat": 4,
 "nbformat_minor": 0
}